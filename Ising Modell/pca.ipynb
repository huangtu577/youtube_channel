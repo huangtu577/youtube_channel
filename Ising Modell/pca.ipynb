{
 "cells": [
  {
   "cell_type": "code",
   "execution_count": null,
   "id": "84727569-bcb8-41bf-9d5c-7c7f45d0d965",
   "metadata": {},
   "outputs": [],
   "source": [
    "import numpy as np\n",
    "import matplotlib.pyplot as plt\n",
    "from sklearn.decomposition import PCA\n",
    "from data_loader import IsingDataset\n",
    "from matplotlib import animation\n"
   ]
  },
  {
   "cell_type": "markdown",
   "id": "296ed1a8",
   "metadata": {},
   "source": [
    "# Ising Model\n",
    "The Ising model is a model from statistical physics that describes the behavior of magnetic materials. It is a simple model that can be used to study phase transitions and critical phenomena. The model consists of a lattice of spins, which can be in one of two states: up or down. The energy of the system is given by the sum of the interactions between neighboring spins. The Hamiltonian of the system is given by:\n",
    "$$H = -\\frac{1}{2} \\sum_{i,j} J_{ij}s_i s_j - h \\sum_i s_i$$\n",
    "where $s_i$ is the spin at site $i$, $J_{ij}$ is the coupling constant, and $h$ is the external magnetic field. The first term in the Hamiltonian represents the interaction between spins, and the second term represents the interaction of the spins with the external magnetic field. \n",
    "\n",
    "## Thermodynamic properties\n",
    "The thermodynamic properties of the system can be calculated from the partition function:\n",
    "$$Z = \\sum_{\\{s_i\\}} e^{-\\beta H}$$\n",
    "where $\\beta = 1/(k_B T)$ is the inverse temperature, and the sum is over all possible configurations of the spins. The free energy of the system is given by:\n",
    "$$F = -k_B T \\log Z$$\n",
    "The magnetization of the system is given by:\n",
    "$$M = \\frac{1}{N} \\sum_i s_i$$\n",
    "where $N$ is the total number of spins. The average magnetization is given by:\n",
    "$$\\langle M \\rangle = \\frac{1}{Z} \\sum_{\\{s_i\\}} M e^{-\\beta H}$$\n"
   ]
  },
  {
   "cell_type": "markdown",
   "id": "0577c6c6-e674-451d-ac43-0372132c3aa1",
   "metadata": {},
   "source": [
    "## Simulated Data"
   ]
  },
  {
   "cell_type": "code",
   "execution_count": null,
   "id": "477ddc56-4513-49d2-bfa7-3502310a2db0",
   "metadata": {},
   "outputs": [],
   "source": [
    "ising_dset = IsingDataset(\"training_data.h5\")\n",
    "len(ising_dset)\n"
   ]
  },
  {
   "cell_type": "code",
   "execution_count": null,
   "id": "ffa83466-7854-4552-a58a-a2e40bd7416a",
   "metadata": {},
   "outputs": [],
   "source": [
    "config, mag, BJ = ising_dset[15]"
   ]
  },
  {
   "cell_type": "code",
   "execution_count": null,
   "id": "57264bf5-fda4-4603-8880-b2fc13507e3e",
   "metadata": {},
   "outputs": [],
   "source": [
    "plt.imshow(config.reshape(28, 28))\n",
    "plt.colorbar()\n",
    "plt.show()"
   ]
  },
  {
   "cell_type": "markdown",
   "id": "85d42672",
   "metadata": {},
   "source": [
    "# PCA\n",
    "PCA is a statistical technique for reducing the dimensionality of a dataset. It works by transforming the original data into a new coordinate system, where the axes are aligned with the directions of maximum variance in the data. This transformation allows the data to be represented in a lower-dimensional space while preserving as much of the original variance as possible. The transformation is performed by finding the eigenvectors and eigenvalues of the data's covariance matrix $\\Sigma = E[XX^T]$ into its eivenvalues and eigenvectors. The eigenvectors are the principal components of the data, and the eigenvalues represent the amount of variance that is explained by each principal component.\n",
    "$$ \\Lambda = \\Gamma^T \\Sigma \\Gamma $$\n",
    "where $\\Lambda$ is a diagonal matrix of eigenvalues and $\\Gamma$ is a matrix whose columns are the eigenvectors of $\\Sigma$.\n"
   ]
  },
  {
   "cell_type": "code",
   "execution_count": null,
   "id": "dc98a7a3-33b5-4358-8c82-d60b33429710",
   "metadata": {},
   "outputs": [],
   "source": [
    "N = 10000\n",
    "rng = np.random.default_rng(seed=42)\n",
    "rand = rng.choice(len(ising_dset), size = N, replace = False)"
   ]
  },
  {
   "cell_type": "code",
   "execution_count": null,
   "id": "4621d409-6ef9-44f0-bf3f-4b3780015e4d",
   "metadata": {},
   "outputs": [],
   "source": [
    "configs = np.empty(shape=(N,28*28), dtype=float)\n",
    "temps = np.empty(shape=(N,), dtype=float)\n",
    "\n",
    "# Manual loop since h5dfs are weird\n",
    "for i, idx in enumerate(rand):\n",
    "    lattice, mag, BJ = ising_dset[idx]\n",
    "    \n",
    "    # np.array since lattice is torch.tensor\n",
    "    configs[i] = np.array(lattice).flatten()\n",
    "    temps[i] = 1/BJ.float()\n"
   ]
  },
  {
   "cell_type": "code",
   "execution_count": null,
   "id": "c3373c92-ce59-4d27-9a25-fb182eaa57c7",
   "metadata": {},
   "outputs": [],
   "source": [
    "pca = PCA()\n",
    "XPCA = pca.fit_transform(configs)"
   ]
  },
  {
   "cell_type": "code",
   "execution_count": null,
   "id": "b27a36cf-fed1-4092-a51e-6f50621e4963",
   "metadata": {},
   "outputs": [],
   "source": [
    "fig, ax = plt.subplots(1, 1, figsize=(10, 5))\n",
    "\n",
    "plt.scatter(XPCA[:,0], XPCA[:,1], c=temps, cmap='coolwarm',alpha = 0.5, label=\"Snapshots\")\n",
    "\n",
    "cbar = plt.colorbar()\n",
    "cbar.ax.set_ylabel(\"Temperature\")\n",
    "plt.ylabel('P2')\n",
    "plt.xlabel('P1')\n",
    "\n",
    "plt.legend()\n",
    "\n",
    "plt.savefig(\"PCA_temperatures.png\")\n",
    "\n",
    "plt.show()\n"
   ]
  },
  {
   "cell_type": "code",
   "execution_count": null,
   "id": "5ff73164-f623-4067-aa6a-ddd53f2bcadb",
   "metadata": {},
   "outputs": [],
   "source": [
    "fig, ax = plt.subplots(1, 1)\n",
    "ax.set_yscale(\"log\")\n",
    "ax.scatter(np.arange(0, len(pca.explained_variance_)),pca.explained_variance_ratio_, c=\"b\", marker=\"^\")\n",
    "ax.set_ylabel(r\"$\\tilde{\\lambda}$\")\n",
    "ax.set_xlabel(\"$n$\")\n",
    "ax.set_title(\"Explained Variance by components\")\n",
    "plt.savefig(\"Explained_variance.png\")\n",
    "plt.show()"
   ]
  },
  {
   "cell_type": "markdown",
   "id": "006e3b02",
   "metadata": {},
   "source": [
    "# Comparison\n",
    "From thermodynamics, we know, that we can describe the system by the magnetization, which is a single scalar value. However, the system is described by a lattice of spins, which is a high-dimensional object. We can use PCA to reduce the dimensionality of the system and find the principal components that capture the most variance in the data. By comparing the principal components with the magnetization, we can gain insight into the behavior of the system and how the magnetization is related to the underlying structure of the data."
   ]
  },
  {
   "cell_type": "code",
   "execution_count": null,
   "id": "5385c087-3294-45b4-a8fd-d79c165611e4",
   "metadata": {},
   "outputs": [],
   "source": [
    "T_crit = 2.269\n",
    "fig, (ax1, ax2) = plt.subplots(1, 2, sharex=True)\n",
    "temp = np.unique(temps)\n",
    "\n",
    "magnetization = np.abs(np.mean(configs, axis = 1))\n",
    "\n",
    "mag_mean = [np.mean(magnetization[temps == t]) for t in temp]\n",
    "ax1.scatter(temp, mag_mean)\n",
    "ax1.axvline(T_crit, linestyle=\"--\", c=\"k\")\n",
    "ax1.set_xlabel(\"T\")\n",
    "ax1.set_ylabel(r\"|m|\")\n",
    "ax1.set_title(\"Magnetization\")\n",
    "ticks = np.append(ax1.get_xticks(), T_crit)\n",
    "ticksl = ticks.tolist()\n",
    "ticksl[-1] = r\"$T_c$\"\n",
    "ax1.set_xticks(ticks)\n",
    "ax1.set_xticklabels(ticksl)\n",
    "\n",
    "\n",
    "aux1 = pca.components_[0] / 28\n",
    "aux = [np.mean(np.abs(np.sum(configs[temps == t, :] * aux1, axis=1))) for t in temp]\n",
    "ax2.scatter(temp, aux)\n",
    "ax2.axvline(T_crit, linestyle=\"--\", c=\"k\")\n",
    "\n",
    "\n",
    "ax2.set_xlabel(\"T\")\n",
    "ax2.set_ylabel(r'$<|p_1|>$ / L'\n",
    "              )\n",
    "ax2.set_title(\"First Principal Component\")\n",
    "\n",
    "\n",
    "plt.tight_layout()\n",
    "plt.savefig(\"Magnetization_vs_pc.png\")\n",
    "plt.show()"
   ]
  },
  {
   "cell_type": "code",
   "execution_count": null,
   "id": "c512f1d3-20f9-4b82-928f-4dd2f6bede0b",
   "metadata": {},
   "outputs": [],
   "source": [
    "fig, ax = plt.subplots(1, 1)\n",
    "ax.scatter(temp, np.abs(np.array(mag_mean) - np.array(aux)), marker=\"o\", c=\"b\")\n",
    "ax.set_xlabel(\"T\")\n",
    "ax.set_ylabel(r\"$| \\frac{|p_1|}{L} - |m| |$\")\n",
    "plt.savefig(\"diff_p_1_m.png\")\n",
    "plt.show()"
   ]
  },
  {
   "cell_type": "code",
   "execution_count": null,
   "id": "9fd32a5e",
   "metadata": {},
   "outputs": [],
   "source": [
    "fig, axs = plt.subplots(3, 3)\n",
    "\n",
    "for i, ax in enumerate(axs.flatten()):\n",
    "    ax.imshow(pca.components_[i].reshape(28, 28))\n",
    "    ax.set_xticks([])\n",
    "    ax.set_yticks([])\n",
    "    ax.set_title(f\"{i}. component\")\n",
    "    \n",
    "plt.tight_layout()"
   ]
  },
  {
   "cell_type": "code",
   "execution_count": null,
   "id": "804476fa-88bd-4967-a8fc-e084b7ff25f4",
   "metadata": {},
   "outputs": [],
   "source": [
    "fig = plt.figure(facecolor=(1,1,1,0))\n",
    "data = pca.components_[0].reshape(28, 28)\n",
    "im = plt.imshow(data)\n",
    "\n",
    "plt.title(\"Principal Components\")\n",
    "\n",
    "def init():\n",
    "    im.set_data(pca.components_[0].reshape(28, 28))\n",
    "    return im\n",
    "\n",
    "def animate(data):\n",
    "    im.set_data(data.reshape(28, 28))\n",
    "    return im\n",
    "\n",
    "anim = animation.FuncAnimation(fig, animate, init_func=init, frames=pca.components_[0:50],\n",
    "                               interval=500)\n",
    "anim.save(\"PCA_Components.gif\", writer='imagemagick', savefig_kwargs={\"transparent\": True})"
   ]
  },
  {
   "cell_type": "code",
   "execution_count": null,
   "id": "e7eb3e5e",
   "metadata": {},
   "outputs": [],
   "source": []
  }
 ],
 "metadata": {
  "kernelspec": {
   "display_name": "Python 3 (ipykernel)",
   "language": "python",
   "name": "python3"
  },
  "language_info": {
   "codemirror_mode": {
    "name": "ipython",
    "version": 3
   },
   "file_extension": ".py",
   "mimetype": "text/x-python",
   "name": "python",
   "nbconvert_exporter": "python",
   "pygments_lexer": "ipython3",
   "version": "3.10.9"
  }
 },
 "nbformat": 4,
 "nbformat_minor": 5
}
