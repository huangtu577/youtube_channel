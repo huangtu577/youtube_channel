{
 "cells": [
  {
   "cell_type": "markdown",
   "metadata": {},
   "source": [
    "# Heat Flow Equation\n",
    "The heat flow equation is a partial differential equation that describes the distribution of heat (or variation in temperature) in a given region over time. It is given by:\n",
    "$$\\frac{\\partial u}{\\partial t} = \\alpha^2 \\nabla^2 u$$\n",
    "where $u$ is the temperature distribution, $t$ is time, $\\alpha$ is the thermal diffusivity, and $\\nabla^2$ is the Laplacian operator. The Laplacian operator is given by:\n",
    "$$\\nabla^2 u = \\frac{\\partial^2 u}{\\partial x^2} + \\frac{\\partial^2 u}{\\partial y^2} + \\frac{\\partial^2 u}{\\partial z^2}$$"
   ]
  },
  {
   "cell_type": "markdown",
   "metadata": {},
   "source": [
    "# Crank Nicholson"
   ]
  },
  {
   "cell_type": "markdown",
   "metadata": {},
   "source": [
    "The Crank Nicholson method is a finite difference method used to solve parabolic partial differential equations. It is unconditionally stable and second order accurate in time. The method is an implicit method, which means that the solution at the next time step is obtained by solving an equation that contains the solution at the current time step. The method is based on the implicit trapezoidal rule for integration.\n",
    "\n",
    "The Crank Nicholson method is given by the following equation:\n",
    "\n",
    "$$u_{i}^{n + 1} - u_{i}^{n} = \\int_{t_n}^{t_{n + 1}} \\frac{\\partial^2 u}{\\partial x^2} dt  = \\frac{\\Delta t}{2} \\left[\\left( \\frac{\\partial^{2} u}{\\partial x^{2}} \\right)_{i}^{n + 1} + \\left( \\frac{\\partial^{2} u}{\\partial x^{2}} \\right)_{i}^{n} \\right]$$\n",
    "$$ \\Longrightarrow u_{i}^{n + 1} = u_{i}^{n} - r \\left( u_{i - 1}^{n} + u_{i + 1}^{n} - 2u_{i}^{n} \\right) -  r \\left( u_{i - 1}^{n + 1} + u_{i + 1}^{n + 1} - 2u_{i}^{n + 1} \\right)$$\n",
    "with $r = \\frac{ \\alpha^2 \\Delta t}{2 \\Delta x^2}$.\n",
    "\n",
    "We get a linear system of equations of the form:\n",
    "$$ -r u_{i-1}^{n + 1} + 2(1 + r) u_i^{n + 1} - r u_{i + 1}^{n + 1} = 2(1 - r) u_i^n + r (u_{i - 1}^n + u_{i + 1}^n)$$\n",
    "Which can be formulated as a Matrix equation \n",
    "$$A \\mathbf{u}^{n + 1} = B\\mathbf{u}^{n}$$\n",
    "where $A, B$ are a tridiagonal matrix.\n",
    "\n",
    "For $r = 1$ the system simplifies to:\n",
    "$$ - u_{i-1}^{n + 1} + 4 u_i^{n + 1} -  u_{i + 1}^{n + 1} =u_{i - 1}^n + u_{i + 1}^n$$\n",
    "\n",
    "\n",
    "\n",
    "For the heat equation, the boundary conditions are usually Dirichlet boundary conditions, which means that the value of the solution is specified at the boundaries. The boundary conditions are incorporated into the linear system of equations by setting the values of the solution at the boundaries to the specified values."
   ]
  },
  {
   "cell_type": "code",
   "execution_count": null,
   "metadata": {},
   "outputs": [],
   "source": [
    "import numpy as np\n",
    "import scipy as sc\n",
    "import matplotlib.pyplot as plt\n",
    "from matplotlib.animation import FuncAnimation\n",
    "from scipy.sparse import diags\n",
    "from scipy.sparse.linalg import spsolve, cgs\n",
    "from scipy import sparse as ss"
   ]
  },
  {
   "cell_type": "markdown",
   "metadata": {},
   "source": [
    "# Initial Configuration"
   ]
  },
  {
   "cell_type": "code",
   "execution_count": null,
   "metadata": {},
   "outputs": [],
   "source": [
    "N = 1000\n",
    "arr = np.zeros(N)\n",
    "\n",
    "arr[4*N//10: 6*N//10] = 100\n",
    "\n",
    "left_bc = 10\n",
    "right_bc = 10\n",
    "\n",
    "arr[0] = left_bc\n",
    "arr[-1] = right_bc"
   ]
  },
  {
   "cell_type": "code",
   "execution_count": null,
   "metadata": {},
   "outputs": [],
   "source": [
    "plt.plot(arr)"
   ]
  },
  {
   "cell_type": "markdown",
   "metadata": {},
   "source": [
    "## Sparse System"
   ]
  },
  {
   "cell_type": "code",
   "execution_count": null,
   "metadata": {},
   "outputs": [],
   "source": [
    "ones = np.ones(N - 2)\n",
    "ones.shape"
   ]
  },
  {
   "cell_type": "code",
   "execution_count": null,
   "metadata": {},
   "outputs": [],
   "source": [
    "A = diags([-1*ones[:-1], 4*ones, -1*ones[:-1]], [-1, 0, 1]).tocsr()\n"
   ]
  },
  {
   "cell_type": "code",
   "execution_count": null,
   "metadata": {},
   "outputs": [],
   "source": [
    "print(f\"Arraysize: {A.toarray().nbytes/1e6:.2f} MB\")\n",
    "print(f\"Sparse Arraysize: {(A.data.nbytes + A.indptr.nbytes + A.indices.nbytes)/1e6:.2f} MB\")"
   ]
  },
  {
   "cell_type": "code",
   "execution_count": null,
   "metadata": {},
   "outputs": [],
   "source": [
    "B = diags([ones[:-1], ones[:-1]], [-1, 1])\n"
   ]
  },
  {
   "cell_type": "code",
   "execution_count": null,
   "metadata": {},
   "outputs": [],
   "source": [
    "t_end = 5000\n",
    "\n",
    "interior_points = arr[1: -1]\n",
    "\n",
    "storage = np.zeros(shape=(t_end, N-2))\n",
    "storage[0] = interior_points\n",
    "\n",
    "for i in range(1, t_end):\n",
    "    \n",
    "    left_side = interior_points[1]\n",
    "    right_side = interior_points[-2]\n",
    "    \n",
    "    \n",
    "    \n",
    "    interior_points = B@interior_points\n",
    "    \n",
    "    # apply bc\n",
    "    interior_points[0] = 2*left_bc + left_side\n",
    "    interior_points[-1] = 2*right_bc + right_side\n",
    "    \n",
    "    interior_points = spsolve(A, interior_points)\n",
    "    \n",
    "    storage[i] = interior_points\n",
    "    "
   ]
  },
  {
   "cell_type": "code",
   "execution_count": null,
   "metadata": {},
   "outputs": [],
   "source": [
    "\n",
    "# Create a figure and axis\n",
    "fig, ax = plt.subplots()\n",
    "\n",
    "# Set the x-axis limits\n",
    "ax.set_xlim(0, N)\n",
    "\n",
    "# Set the y-axis limits\n",
    "ax.set_ylim(np.min(storage), np.max(storage))\n",
    "\n",
    "# Create an empty line object\n",
    "line, = ax.plot([], [], lw=2, ls=\"None\", marker=\"o\", markersize=2, color=\"black\")\n",
    "\n",
    "# Update function for the animation\n",
    "def update(frame):\n",
    "    # Update the line data with the corresponding time step from the storage array\n",
    "    line.set_data(np.arange(len(storage[frame])), storage[frame])\n",
    "    return line,\n",
    "\n",
    "def init(): \n",
    "    line.set_data(np.arange(N), arr) \n",
    "    return line, \n",
    "\n",
    "animation = FuncAnimation(fig, update, frames=range(0, len(storage), 20), blit=True, init_func=init, interval=25)\n",
    "\n",
    "animation.save('diffusion1d.gif', writer = 'ffmpeg', fps = 60) \n",
    "plt.show()\n"
   ]
  },
  {
   "cell_type": "code",
   "execution_count": null,
   "metadata": {},
   "outputs": [],
   "source": [
    "from matplotlib import colormaps as cm\n",
    "import matplotlib as mpl#\n",
    "\n",
    "fig, ax = plt.subplots()\n",
    "\n",
    "data = storage[-1]\n",
    "norm = mpl.colors.Normalize(vmin=data.min(), vmax=data.max())\n",
    "ax.scatter(np.arange(len(data)), data, cmap=cm[\"coolwarm\"], norm=norm, c = data)\n",
    "\n",
    "# ax.grid()\n",
    "ax.set_axis_off()\n",
    "fig.tight_layout()\n",
    "fig.savefig(\"thumbnail.svg\", dpi = 500,transparent=True)"
   ]
  },
  {
   "cell_type": "markdown",
   "metadata": {},
   "source": [
    "# 2D Crank Nicholson\n",
    "To solve the 2D heat equation using the Crank Nicholson method, we discretize the equation in both space and time. The 2D heat equation is given by:\n",
    "$$\\frac{\\partial u}{\\partial t} = \\alpha^2 \\nabla^2 u = \\alpha^2 \\left( \\frac{\\partial^2 u}{\\partial x^2} + \\frac{\\partial^2 u}{\\partial y^2} \\right)$$\n",
    "By discretizing the equation in space and time, we get:\n",
    "$$\\frac{u_{i, j}^{n + 1} - u_{i, j}^{n}}{\\Delta t} = \\alpha^2 \\left( \\frac{u_{i - 1, j}^{n + 1} - 2u_{i, j}^{n + 1} + u_{i + 1, j}^{n + 1}}{\\Delta x^2} + \\frac{u_{i, j - 1}^{n + 1} - 2u_{i, j}^{n + 1} + u_{i, j + 1}^{n + 1}}{\\Delta y^2} \\right)$$\n",
    "Assuming equal spacing in the x and y directions, we get:\n",
    "\\begin{align*}\n",
    "u_{i, j}^{n + 1} = u_{i, j}^{n} + &r \\left( u_{i - 1, j}^{n} - 2u_{i, j}^{n} + u_{i + 1, j}^{n} + u_{i, j - 1}^{n} - 2u_{i, j}^{n} + u_{i, j + 1}^{n} \\right)\\\\\n",
    " +&r \\left( u_{i - 1, j}^{n + 1} - 2u_{i, j}^{n + 1} + u_{i + 1, j}^{n + 1} + u_{i, j - 1}^{n + 1} - 2u_{i, j}^{n + 1} + u_{i, j + 1}^{n + 1} \\right)\n",
    "\\end{align*}\n",
    "where $r = \\frac{\\alpha^2 \\Delta t}{2 \\Delta x^2}$."
   ]
  },
  {
   "cell_type": "code",
   "execution_count": null,
   "metadata": {},
   "outputs": [],
   "source": [
    "import numpy as np\n",
    "from scipy.sparse import diags\n",
    "from scipy.sparse.linalg import cgs\n",
    "import matplotlib.pyplot as plt"
   ]
  },
  {
   "cell_type": "code",
   "execution_count": null,
   "metadata": {},
   "outputs": [],
   "source": [
    "r = 0.5\n",
    "N = 500"
   ]
  },
  {
   "cell_type": "markdown",
   "metadata": {},
   "source": [
    "## Iteration Matrix\n",
    "The scheme is given by:\n",
    "$$(1 + 4r) u_{i, j}^{n + 1} - r u_{i - 1, j}^n - r u_{i + 1, j}^n - r u_{i, j - 1}^n - r u_{i, j + 1}^n = r(u_{i, j - 1} + u_{i, j + 1} + u_{i - 1, j} + u_{i + 1, j} - 4u_{i, j})$$\n",
    "\n",
    "The iteration matrix is given by:\n",
    "$$A = \\begin{bmatrix}\n",
    "1 + 4r & -r & 0 & \\cdots & 0 & -r & \\cdots\\\\\n",
    "-r & 1 + 4r & -r & \\cdots & 0 & 0& \\cdots\\\\\n",
    "0 & -r & 1 + 4r & \\cdots & 0 & 0& \\cdots\\\\\n",
    "\\vdots & \\vdots & \\vdots & \\ddots & \\vdots & \\vdots& \\cdots\\\\\n",
    "-r & 0 & 0 & \\cdots & -r & 1 + 4r\\\\\n",
    "\\vdots & \\vdots & \\vdots & \\vdots & \\vdots & \\vdots & \\ddots\\\\\n",
    "\\end{bmatrix}$$\n"
   ]
  },
  {
   "cell_type": "code",
   "execution_count": null,
   "metadata": {},
   "outputs": [],
   "source": [
    "diagonals = [(1 + 4*r)* np.ones(N*N), -r*np.ones(N*N - 1), -r*np.ones(N*N -1), -r*np.ones(N*N - N), -r*np.ones(N*N - N)]"
   ]
  },
  {
   "cell_type": "code",
   "execution_count": null,
   "metadata": {},
   "outputs": [],
   "source": [
    "A = diags(diagonals, [0, -1, 1, N, -N], format=\"csr\")"
   ]
  },
  {
   "cell_type": "markdown",
   "metadata": {},
   "source": [
    "## Initial Configuration and Boundary Conditions"
   ]
  },
  {
   "cell_type": "code",
   "execution_count": null,
   "metadata": {},
   "outputs": [],
   "source": [
    "from skimage.draw import disk\n",
    "\n",
    "rr, cc = disk((N//2, N//4), N//15)\n",
    "\n",
    "mask = np.zeros((N, N), dtype = bool)\n",
    "\n",
    "mask[rr, cc] = 1\n",
    "\n",
    "rr, cc = disk((N//2, 3*N//4), N//15)\n",
    "\n",
    "mask[rr, cc] = 1\n"
   ]
  },
  {
   "cell_type": "code",
   "execution_count": null,
   "metadata": {},
   "outputs": [],
   "source": [
    "plt.imshow(mask)"
   ]
  },
  {
   "cell_type": "code",
   "execution_count": null,
   "metadata": {},
   "outputs": [],
   "source": [
    "values = np.zeros((N, N))\n",
    "\n",
    "values[mask] = 10\n",
    "\n",
    "values = values.flatten()"
   ]
  },
  {
   "cell_type": "markdown",
   "metadata": {},
   "source": [
    "## Inhomogenity \n",
    "The inhomogenous can also be given using a Matrix $M$:\n",
    "$$M = \\begin{bmatrix}\n",
    "- 4r & r & 0 & \\cdots & 0 & r & \\cdots\\\\\n",
    "r & - 4r & r & \\cdots & 0 & 0& \\cdots\\\\\n",
    "0 & r & - 4r & \\cdots & 0 & 0& \\cdots\\\\\n",
    "\\vdots & \\vdots & \\vdots & \\ddots & \\vdots & \\vdots& \\cdots\\\\\n",
    "r & 0 & 0 & \\cdots & r & - 4r\\\\\n",
    "\\vdots & \\vdots & \\vdots & \\vdots & \\vdots & \\vdots & \\ddots\\\\\n",
    "\\end{bmatrix}$$\n",
    "by \n",
    "$$A \\mathbf{u}^{n + 1} = M\\mathbf{u}^{n}$$"
   ]
  },
  {
   "cell_type": "code",
   "execution_count": null,
   "metadata": {},
   "outputs": [],
   "source": [
    "diagonals = [(1-4*r)* np.ones(N*N), r*np.ones(N*N - 1), r*np.ones(N*N -1), r*np.ones(N*N - N), r*np.ones(N*N - N)]"
   ]
  },
  {
   "cell_type": "code",
   "execution_count": null,
   "metadata": {},
   "outputs": [],
   "source": [
    "M = diags(diagonals, [0, -1, 1, -N, N], format = \"csr\")"
   ]
  },
  {
   "cell_type": "code",
   "execution_count": null,
   "metadata": {},
   "outputs": [],
   "source": [
    "steps = 3000\n",
    "arr = np.zeros((steps, N, N))\n",
    "arr[0] = values.reshape((N, N))\n",
    "\n",
    "for i in range(1, steps):\n",
    "    values, _ = cgs(A, M@values)\n",
    "    arr[i] = values.reshape((N, N))"
   ]
  },
  {
   "cell_type": "markdown",
   "metadata": {},
   "source": [
    "## Use Cupy"
   ]
  },
  {
   "cell_type": "code",
   "execution_count": null,
   "metadata": {},
   "outputs": [],
   "source": [
    "import cupy as cp\n",
    "from cupyx.scipy.sparse import linalg as cp_linalg\n",
    "from cupyx.scipy.sparse import csr_matrix"
   ]
  },
  {
   "cell_type": "code",
   "execution_count": null,
   "metadata": {},
   "outputs": [],
   "source": [
    "A_cupy = csr_matrix(A)\n",
    "M_cupy = csr_matrix(M)\n",
    "\n",
    "values_cupy = cp.zeros((N, N))\n",
    "values_cupy[mask] = 10\n",
    "values_cupy = values_cupy.flatten()"
   ]
  },
  {
   "cell_type": "code",
   "execution_count": null,
   "metadata": {},
   "outputs": [],
   "source": [
    "%%timeit\n",
    "cgs(A, M@values)"
   ]
  },
  {
   "cell_type": "code",
   "execution_count": null,
   "metadata": {},
   "outputs": [],
   "source": [
    "%%timeit\n",
    "cp_linalg.cgs(A_cupy, M_cupy@values_cupy)"
   ]
  },
  {
   "cell_type": "code",
   "execution_count": null,
   "metadata": {},
   "outputs": [],
   "source": [
    "steps = 3000\n",
    "arr = np.zeros((steps, N, N))\n",
    "arr[0] = values_cupy.reshape((N, N)).get()\n",
    "\n",
    "for i in range(1, steps):\n",
    "    values_cupy, _ = cp_linalg.cgs(A_cupy, M_cupy@values_cupy)\n",
    "    arr[i] = values_cupy.reshape((N, N)).get()"
   ]
  },
  {
   "cell_type": "markdown",
   "metadata": {},
   "source": [
    "## Visualize the results "
   ]
  },
  {
   "cell_type": "code",
   "execution_count": null,
   "metadata": {},
   "outputs": [],
   "source": [
    "from matplotlib.animation import FuncAnimation\n",
    "\n",
    "fig, ax = plt.subplots(subplot_kw={\"projection\": \"3d\"}, frameon=False)\n",
    "\n",
    "X, Y = np.meshgrid(np.arange(0, N), np.arange(0, N))\n",
    "\n",
    "plot = ax.plot_surface(X, Y, arr[0], cmap=\"coolwarm\")\n",
    "\n",
    "def updatefig(i, plot):\n",
    "    ax.clear()\n",
    "    ax.set_zlim(bottom=0, top = np.max(arr[0]))\n",
    "    ax.set_axis_off()\n",
    "    # ax.set_pane_color((0, 0, 0))\n",
    "    plot = ax.plot_surface(X, Y, arr[i], cmap=\"coolwarm\")\n",
    "    \n",
    "    return plot, \n",
    "    \n",
    "\n",
    "ani = FuncAnimation(fig, updatefig, frames=range(0, len(arr), 25), blit=True, fargs=(plot, ))\n",
    "\n",
    "ani.save('diffusion_gpu.gif', writer = 'ffmpeg', fps = 60)"
   ]
  },
  {
   "cell_type": "code",
   "execution_count": null,
   "metadata": {},
   "outputs": [],
   "source": []
  }
 ],
 "metadata": {
  "kernelspec": {
   "display_name": "ml",
   "language": "python",
   "name": "python3"
  },
  "language_info": {
   "codemirror_mode": {
    "name": "ipython",
    "version": 3
   },
   "file_extension": ".py",
   "mimetype": "text/x-python",
   "name": "python",
   "nbconvert_exporter": "python",
   "pygments_lexer": "ipython3",
   "version": "3.10.9"
  }
 },
 "nbformat": 4,
 "nbformat_minor": 2
}
